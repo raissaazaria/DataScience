{
 "cells": [
  {
   "cell_type": "code",
   "execution_count": null,
   "id": "cee842b6",
   "metadata": {},
   "outputs": [],
   "source": [
    "import pandas as pd\n",
    "from scipy import sparse\n",
    "from sklearn.metrics.pairwise import cosine_similarity"
   ]
  },
  {
   "cell_type": "code",
   "execution_count": null,
   "id": "c427b166",
   "metadata": {},
   "outputs": [],
   "source": [
    "ratings = pd.read_csv(\"rating.csv\", index_col=0)\n",
    "ratings"
   ]
  },
  {
   "cell_type": "code",
   "execution_count": null,
   "id": "d6a6c591",
   "metadata": {},
   "outputs": [],
   "source": [
    "def standardize(row): \n",
    "    new_row = (row - row.mean()) / (row.max() - row.min())\n",
    "    return new_row\n",
    "\n",
    "ratings_std = ratings.apply(standardize)\n",
    "\n",
    "#taking transpose since we want similiarity between items which need to be in rows\n",
    "item_similarity = cosine_similarity(ratings_std.T)\n",
    "print(item_similarity)"
   ]
  },
  {
   "cell_type": "code",
   "execution_count": null,
   "id": "984c8814",
   "metadata": {},
   "outputs": [],
   "source": [
    "item_similarity_df = pd.DataFrame(item_similarity, index=ratings.columns, columns=ratings.columns)\n",
    "item_similarity"
   ]
  },
  {
   "cell_type": "code",
   "execution_count": null,
   "id": "733a8f99",
   "metadata": {},
   "outputs": [],
   "source": [
    "#make recommendation\n",
    "\n",
    "def get_similar_movies(movie_namE, user_rating):\n",
    "    similar_score = item_similarity_df[movie_name]*user_rating\n",
    "    similar_score = similar_score.sort_values(ascending=False)\n",
    "    \n",
    "    return similar_score\n",
    "print(get_similar_movies)"
   ]
  },
  {
   "cell_type": "code",
   "execution_count": null,
   "id": "ad9fbbeb",
   "metadata": {},
   "outputs": [],
   "source": [
    "#merge data\n",
    "ratings = pd.read_csv(\"rating.csv\")\n",
    "movies = pd.read_csv(\"movies.csv\")\n",
    "ratings = pd.merge(movies,ratings).drop(['genres','timestamp']axis=1)\n",
    "ratings.head()"
   ]
  },
  {
   "cell_type": "code",
   "execution_count": null,
   "id": "57114857",
   "metadata": {},
   "outputs": [],
   "source": [
    "#user rating\n",
    "user_ratings  = ratings.pivot_table(index=['userId'], columns=['title'], values='rating')\n",
    "user_ratings.head()"
   ]
  },
  {
   "cell_type": "code",
   "execution_count": null,
   "id": "2210ac54",
   "metadata": {},
   "outputs": [],
   "source": []
  }
 ],
 "metadata": {
  "kernelspec": {
   "display_name": "Python 3 (ipykernel)",
   "language": "python",
   "name": "python3"
  },
  "language_info": {
   "codemirror_mode": {
    "name": "ipython",
    "version": 3
   },
   "file_extension": ".py",
   "mimetype": "text/x-python",
   "name": "python",
   "nbconvert_exporter": "python",
   "pygments_lexer": "ipython3",
   "version": "3.9.12"
  }
 },
 "nbformat": 4,
 "nbformat_minor": 5
}
